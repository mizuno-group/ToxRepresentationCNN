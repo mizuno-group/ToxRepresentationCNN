{
 "cells": [
  {
   "cell_type": "markdown",
   "metadata": {},
   "source": [
    "# Data Split"
   ]
  },
  {
   "cell_type": "markdown",
   "metadata": {},
   "source": [
    "## import library"
   ]
  },
  {
   "cell_type": "code",
   "execution_count": 1,
   "metadata": {},
   "outputs": [],
   "source": [
    "import pickle\n",
    "import random\n",
    "from glob import glob\n",
    "\n",
    "import numpy as np\n",
    "import pandas as pd\n",
    "from sklearn.model_selection import GroupKFold\n",
    "from sklearn.preprocessing import LabelEncoder\n",
    "from tqdm import tqdm\n",
    "\n",
    "from toxreprcnn.data_split import RepeatedStratifiedGroupKFold\n"
   ]
  },
  {
   "cell_type": "markdown",
   "metadata": {},
   "source": [
    "# Data split"
   ]
  },
  {
   "cell_type": "code",
   "execution_count": 3,
   "metadata": {},
   "outputs": [],
   "source": [
    "root = \"..\"\n",
    "\n",
    "with open(f\"{root}/processed_data/210925single_ft_tile_predicts.pickle\", \"rb\") as f:\n",
    "    labels = pickle.load(f)\n"
   ]
  },
  {
   "cell_type": "code",
   "execution_count": 9,
   "metadata": {},
   "outputs": [
    {
     "name": "stdout",
     "output_type": "stream",
     "text": [
      "Alteration, cytoplasmic\n",
      "Alteration, nuclear\n",
      "Atrophy\n",
      "Atypia, nuclear\n",
      "Cellular infiltration, mononuclear cell\n",
      "Change, acidophilic\n",
      "Change, basophilic\n",
      "Change, eosinophilic\n",
      "Cyst\n",
      "Degeneration\n",
      "Degeneration, acidophilic, eosinophilic\n",
      "Degeneration, granular, eosinophilic\n",
      "Degeneration, hydropic\n",
      "Degeneration, vacuolar\n",
      "Deposit, glycogen\n",
      "Deposit, hemosiderin\n",
      "Deposit, lipid\n",
      "Deposit, pigment\n",
      "Fibrosis\n",
      "Ground glass appearance\n",
      "Hematopoiesis, extramedullary\n",
      "Hemorrhage\n",
      "Hypertrophy\n",
      "Inclusion body, intracytoplasmic\n",
      "Increased mitosis\n",
      "Inflammation\n",
      "Inflammation, suppurative\n",
      "Lesion,NOS\n",
      "Microgranuloma\n",
      "Mineralization\n",
      "Necrosis\n",
      "Nodule, hepatodiaphragmatic\n",
      "Proliferation\n",
      "Proliferation, Kupffer cell\n",
      "Proliferation, bile duct\n",
      "Proliferation, oval cell\n",
      "Scar\n",
      "Single cell necrosis\n",
      "Swelling\n",
      "Thrombus\n",
      "Vacuolization, cytoplasmic\n",
      "Vacuolization, nuclear\n"
     ]
    }
   ],
   "source": [
    "print(*sorted(list(labels.keys())), sep=\"\\n\")"
   ]
  },
  {
   "cell_type": "markdown",
   "metadata": {},
   "source": [
    "labelsは各finding typeが存在するWSIから抽出されたtileに関してWSSSで予測されたpathological finding存在確率を格納したデータ\n",
    "\n",
    "finding typeをkeyとするdictで、各valueはtileのリストと存在確率のペアになっている"
   ]
  },
  {
   "cell_type": "code",
   "execution_count": 3,
   "metadata": {},
   "outputs": [
    {
     "data": {
      "text/plain": [
       "['/data0/TGGATE/tiles/46789.svs/7.tiff',\n",
       " '/data0/TGGATE/tiles/46789.svs/47.tiff',\n",
       " '/data0/TGGATE/tiles/46789.svs/10.tiff',\n",
       " '/data0/TGGATE/tiles/46789.svs/89.tiff',\n",
       " '/data0/TGGATE/tiles/46789.svs/0.tiff']"
      ]
     },
     "execution_count": 3,
     "metadata": {},
     "output_type": "execute_result"
    }
   ],
   "source": [
    "labels[\"Proliferation, oval cell\"][0][:5]\n"
   ]
  },
  {
   "cell_type": "code",
   "execution_count": 4,
   "metadata": {},
   "outputs": [
    {
     "data": {
      "text/plain": [
       "array([[0.99992156],\n",
       "       [0.9815824 ],\n",
       "       [0.929671  ],\n",
       "       [0.99985194],\n",
       "       [0.999483  ]], dtype=float32)"
      ]
     },
     "execution_count": 4,
     "metadata": {},
     "output_type": "execute_result"
    }
   ],
   "source": [
    "labels[\"Proliferation, oval cell\"][1][0][:5]\n"
   ]
  },
  {
   "cell_type": "markdown",
   "metadata": {},
   "source": [
    "selected finding types"
   ]
  },
  {
   "cell_type": "code",
   "execution_count": 5,
   "metadata": {},
   "outputs": [],
   "source": [
    "fts = \"\"\"Proliferation, bile duct\n",
    "Ground glass appearance\n",
    "Increased mitosis\n",
    "Inclusion body, intracytoplasmic\n",
    "Deposit, pigment\n",
    "Single cell necrosis\n",
    "Vacuolization, cytoplasmic\n",
    "Swelling\"\"\"\n",
    "fts = fts.split(\"\\n\")\n"
   ]
  },
  {
   "cell_type": "code",
   "execution_count": 6,
   "metadata": {},
   "outputs": [],
   "source": [
    "tile_set = set()\n",
    "\n",
    "for ft in fts:\n",
    "    tile_set |= set(labels[ft][0])\n",
    "positive_set = set([t.split(\"/\")[-2] for t in tile_set])\n"
   ]
  },
  {
   "cell_type": "code",
   "execution_count": 7,
   "metadata": {},
   "outputs": [
    {
     "name": "stderr",
     "output_type": "stream",
     "text": [
      "/opt/conda/lib/python3.7/site-packages/IPython/core/interactiveshell.py:3457: DtypeWarning: Columns (6) have mixed types.Specify dtype option on import or set low_memory=False.\n",
      "  exec(code_obj, self.user_global_ns, self.user_ns)\n"
     ]
    }
   ],
   "source": [
    "tile_root = \"/data/TGGATE/tiles\"\n",
    "\n",
    "path_list = glob(f\"{tile_root}/*.svs\")\n",
    "svs_path_dict = {path.split(\"/\")[-1]: path for path in path_list}\n",
    "info = pd.read_csv(f\"{root}/../../info/info.csv\")\n",
    "info = info[info[\"SACRI_PERIOD\"].isin([\"4 day\", \"8 day\", \"15 day\", \"29 day\"])]\n",
    "whole_set = set(svs_path_dict.keys()) & set(info[\"FILE\"])\n",
    "positive_set = whole_set & positive_set\n",
    "rest_set = whole_set - positive_set\n"
   ]
  },
  {
   "cell_type": "code",
   "execution_count": 8,
   "metadata": {},
   "outputs": [
    {
     "name": "stderr",
     "output_type": "stream",
     "text": [
      "100%|██████████| 585/585 [00:00<00:00, 3546.97it/s]\n"
     ]
    }
   ],
   "source": [
    "positive_list = list(positive_set)\n",
    "\n",
    "positive_info = []\n",
    "\n",
    "for wsi in tqdm(positive_list):\n",
    "    for t in glob(svs_path_dict[wsi] + \"/*.tiff\"):\n",
    "        positive_info.append((t, \"/\".join(t.split(\"/\")[-2:]), t.split(\"/\")[-2]))\n",
    "\n",
    "df = pd.DataFrame(positive_info, columns=[\"path\", \"tilename\", \"FILE\"])\n"
   ]
  },
  {
   "cell_type": "code",
   "execution_count": 9,
   "metadata": {},
   "outputs": [],
   "source": [
    "for ft in fts:\n",
    "    dat = []\n",
    "\n",
    "    data = list(zip(labels[ft][0], np.concatenate(labels[ft][1])))\n",
    "    for p, l in data:\n",
    "        tilename = \"/\".join(p.split(\"/\")[-2:])\n",
    "        dat.append([tilename, l[0]])\n",
    "    # add label information\n",
    "    df = pd.merge(\n",
    "        df, pd.DataFrame(dat, columns=[\"tilename\", ft]), on=\"tilename\", how=\"left\"\n",
    "    )\n"
   ]
  },
  {
   "cell_type": "code",
   "execution_count": 10,
   "metadata": {},
   "outputs": [],
   "source": [
    "for ft in fts:\n",
    "    df.loc[df[ft].isnull(), ft] = 0\n",
    "df = df[((df[fts] > 0) & (df[fts] < 0.5)).sum(axis=1) == 0]\n"
   ]
  },
  {
   "cell_type": "code",
   "execution_count": 11,
   "metadata": {},
   "outputs": [
    {
     "data": {
      "text/html": [
       "<div>\n",
       "<style scoped>\n",
       "    .dataframe tbody tr th:only-of-type {\n",
       "        vertical-align: middle;\n",
       "    }\n",
       "\n",
       "    .dataframe tbody tr th {\n",
       "        vertical-align: top;\n",
       "    }\n",
       "\n",
       "    .dataframe thead th {\n",
       "        text-align: right;\n",
       "    }\n",
       "</style>\n",
       "<table border=\"1\" class=\"dataframe\">\n",
       "  <thead>\n",
       "    <tr style=\"text-align: right;\">\n",
       "      <th></th>\n",
       "      <th>path</th>\n",
       "      <th>tilename</th>\n",
       "      <th>FILE</th>\n",
       "      <th>Proliferation, bile duct</th>\n",
       "      <th>Ground glass appearance</th>\n",
       "      <th>Increased mitosis</th>\n",
       "      <th>Inclusion body, intracytoplasmic</th>\n",
       "      <th>Deposit, pigment</th>\n",
       "      <th>Single cell necrosis</th>\n",
       "      <th>Vacuolization, cytoplasmic</th>\n",
       "      <th>Swelling</th>\n",
       "    </tr>\n",
       "  </thead>\n",
       "  <tbody>\n",
       "    <tr>\n",
       "      <th>0</th>\n",
       "      <td>/mnt/local/HDD/TGGATE/tiles/33958.svs/7.tiff</td>\n",
       "      <td>33958.svs/7.tiff</td>\n",
       "      <td>33958.svs</td>\n",
       "      <td>0.0</td>\n",
       "      <td>0.0</td>\n",
       "      <td>0.0</td>\n",
       "      <td>0.0</td>\n",
       "      <td>0.0</td>\n",
       "      <td>0.0</td>\n",
       "      <td>0.996757</td>\n",
       "      <td>0.000000</td>\n",
       "    </tr>\n",
       "    <tr>\n",
       "      <th>1</th>\n",
       "      <td>/mnt/local/HDD/TGGATE/tiles/33958.svs/47.tiff</td>\n",
       "      <td>33958.svs/47.tiff</td>\n",
       "      <td>33958.svs</td>\n",
       "      <td>0.0</td>\n",
       "      <td>0.0</td>\n",
       "      <td>0.0</td>\n",
       "      <td>0.0</td>\n",
       "      <td>0.0</td>\n",
       "      <td>0.0</td>\n",
       "      <td>0.998521</td>\n",
       "      <td>0.000000</td>\n",
       "    </tr>\n",
       "    <tr>\n",
       "      <th>2</th>\n",
       "      <td>/mnt/local/HDD/TGGATE/tiles/33958.svs/10.tiff</td>\n",
       "      <td>33958.svs/10.tiff</td>\n",
       "      <td>33958.svs</td>\n",
       "      <td>0.0</td>\n",
       "      <td>0.0</td>\n",
       "      <td>0.0</td>\n",
       "      <td>0.0</td>\n",
       "      <td>0.0</td>\n",
       "      <td>0.0</td>\n",
       "      <td>0.994510</td>\n",
       "      <td>0.000000</td>\n",
       "    </tr>\n",
       "    <tr>\n",
       "      <th>3</th>\n",
       "      <td>/mnt/local/HDD/TGGATE/tiles/33958.svs/89.tiff</td>\n",
       "      <td>33958.svs/89.tiff</td>\n",
       "      <td>33958.svs</td>\n",
       "      <td>0.0</td>\n",
       "      <td>0.0</td>\n",
       "      <td>0.0</td>\n",
       "      <td>0.0</td>\n",
       "      <td>0.0</td>\n",
       "      <td>0.0</td>\n",
       "      <td>0.997625</td>\n",
       "      <td>0.000000</td>\n",
       "    </tr>\n",
       "    <tr>\n",
       "      <th>4</th>\n",
       "      <td>/mnt/local/HDD/TGGATE/tiles/33958.svs/0.tiff</td>\n",
       "      <td>33958.svs/0.tiff</td>\n",
       "      <td>33958.svs</td>\n",
       "      <td>0.0</td>\n",
       "      <td>0.0</td>\n",
       "      <td>0.0</td>\n",
       "      <td>0.0</td>\n",
       "      <td>0.0</td>\n",
       "      <td>0.0</td>\n",
       "      <td>0.999719</td>\n",
       "      <td>0.000000</td>\n",
       "    </tr>\n",
       "    <tr>\n",
       "      <th>...</th>\n",
       "      <td>...</td>\n",
       "      <td>...</td>\n",
       "      <td>...</td>\n",
       "      <td>...</td>\n",
       "      <td>...</td>\n",
       "      <td>...</td>\n",
       "      <td>...</td>\n",
       "      <td>...</td>\n",
       "      <td>...</td>\n",
       "      <td>...</td>\n",
       "      <td>...</td>\n",
       "    </tr>\n",
       "    <tr>\n",
       "      <th>58495</th>\n",
       "      <td>/mnt/local/HDD/TGGATE/tiles/25060.svs/72.tiff</td>\n",
       "      <td>25060.svs/72.tiff</td>\n",
       "      <td>25060.svs</td>\n",
       "      <td>0.0</td>\n",
       "      <td>0.0</td>\n",
       "      <td>0.0</td>\n",
       "      <td>0.0</td>\n",
       "      <td>0.0</td>\n",
       "      <td>0.0</td>\n",
       "      <td>0.000000</td>\n",
       "      <td>0.986450</td>\n",
       "    </tr>\n",
       "    <tr>\n",
       "      <th>58496</th>\n",
       "      <td>/mnt/local/HDD/TGGATE/tiles/25060.svs/48.tiff</td>\n",
       "      <td>25060.svs/48.tiff</td>\n",
       "      <td>25060.svs</td>\n",
       "      <td>0.0</td>\n",
       "      <td>0.0</td>\n",
       "      <td>0.0</td>\n",
       "      <td>0.0</td>\n",
       "      <td>0.0</td>\n",
       "      <td>0.0</td>\n",
       "      <td>0.000000</td>\n",
       "      <td>0.994683</td>\n",
       "    </tr>\n",
       "    <tr>\n",
       "      <th>58497</th>\n",
       "      <td>/mnt/local/HDD/TGGATE/tiles/25060.svs/93.tiff</td>\n",
       "      <td>25060.svs/93.tiff</td>\n",
       "      <td>25060.svs</td>\n",
       "      <td>0.0</td>\n",
       "      <td>0.0</td>\n",
       "      <td>0.0</td>\n",
       "      <td>0.0</td>\n",
       "      <td>0.0</td>\n",
       "      <td>0.0</td>\n",
       "      <td>0.000000</td>\n",
       "      <td>0.940306</td>\n",
       "    </tr>\n",
       "    <tr>\n",
       "      <th>58498</th>\n",
       "      <td>/mnt/local/HDD/TGGATE/tiles/25060.svs/73.tiff</td>\n",
       "      <td>25060.svs/73.tiff</td>\n",
       "      <td>25060.svs</td>\n",
       "      <td>0.0</td>\n",
       "      <td>0.0</td>\n",
       "      <td>0.0</td>\n",
       "      <td>0.0</td>\n",
       "      <td>0.0</td>\n",
       "      <td>0.0</td>\n",
       "      <td>0.000000</td>\n",
       "      <td>0.866732</td>\n",
       "    </tr>\n",
       "    <tr>\n",
       "      <th>58499</th>\n",
       "      <td>/mnt/local/HDD/TGGATE/tiles/25060.svs/81.tiff</td>\n",
       "      <td>25060.svs/81.tiff</td>\n",
       "      <td>25060.svs</td>\n",
       "      <td>0.0</td>\n",
       "      <td>0.0</td>\n",
       "      <td>0.0</td>\n",
       "      <td>0.0</td>\n",
       "      <td>0.0</td>\n",
       "      <td>0.0</td>\n",
       "      <td>0.000000</td>\n",
       "      <td>0.981570</td>\n",
       "    </tr>\n",
       "  </tbody>\n",
       "</table>\n",
       "<p>52415 rows × 11 columns</p>\n",
       "</div>"
      ],
      "text/plain": [
       "                                                path           tilename  \\\n",
       "0       /mnt/local/HDD/TGGATE/tiles/33958.svs/7.tiff   33958.svs/7.tiff   \n",
       "1      /mnt/local/HDD/TGGATE/tiles/33958.svs/47.tiff  33958.svs/47.tiff   \n",
       "2      /mnt/local/HDD/TGGATE/tiles/33958.svs/10.tiff  33958.svs/10.tiff   \n",
       "3      /mnt/local/HDD/TGGATE/tiles/33958.svs/89.tiff  33958.svs/89.tiff   \n",
       "4       /mnt/local/HDD/TGGATE/tiles/33958.svs/0.tiff   33958.svs/0.tiff   \n",
       "...                                              ...                ...   \n",
       "58495  /mnt/local/HDD/TGGATE/tiles/25060.svs/72.tiff  25060.svs/72.tiff   \n",
       "58496  /mnt/local/HDD/TGGATE/tiles/25060.svs/48.tiff  25060.svs/48.tiff   \n",
       "58497  /mnt/local/HDD/TGGATE/tiles/25060.svs/93.tiff  25060.svs/93.tiff   \n",
       "58498  /mnt/local/HDD/TGGATE/tiles/25060.svs/73.tiff  25060.svs/73.tiff   \n",
       "58499  /mnt/local/HDD/TGGATE/tiles/25060.svs/81.tiff  25060.svs/81.tiff   \n",
       "\n",
       "            FILE  Proliferation, bile duct  Ground glass appearance  \\\n",
       "0      33958.svs                       0.0                      0.0   \n",
       "1      33958.svs                       0.0                      0.0   \n",
       "2      33958.svs                       0.0                      0.0   \n",
       "3      33958.svs                       0.0                      0.0   \n",
       "4      33958.svs                       0.0                      0.0   \n",
       "...          ...                       ...                      ...   \n",
       "58495  25060.svs                       0.0                      0.0   \n",
       "58496  25060.svs                       0.0                      0.0   \n",
       "58497  25060.svs                       0.0                      0.0   \n",
       "58498  25060.svs                       0.0                      0.0   \n",
       "58499  25060.svs                       0.0                      0.0   \n",
       "\n",
       "       Increased mitosis  Inclusion body, intracytoplasmic  Deposit, pigment  \\\n",
       "0                    0.0                               0.0               0.0   \n",
       "1                    0.0                               0.0               0.0   \n",
       "2                    0.0                               0.0               0.0   \n",
       "3                    0.0                               0.0               0.0   \n",
       "4                    0.0                               0.0               0.0   \n",
       "...                  ...                               ...               ...   \n",
       "58495                0.0                               0.0               0.0   \n",
       "58496                0.0                               0.0               0.0   \n",
       "58497                0.0                               0.0               0.0   \n",
       "58498                0.0                               0.0               0.0   \n",
       "58499                0.0                               0.0               0.0   \n",
       "\n",
       "       Single cell necrosis  Vacuolization, cytoplasmic  Swelling  \n",
       "0                       0.0                    0.996757  0.000000  \n",
       "1                       0.0                    0.998521  0.000000  \n",
       "2                       0.0                    0.994510  0.000000  \n",
       "3                       0.0                    0.997625  0.000000  \n",
       "4                       0.0                    0.999719  0.000000  \n",
       "...                     ...                         ...       ...  \n",
       "58495                   0.0                    0.000000  0.986450  \n",
       "58496                   0.0                    0.000000  0.994683  \n",
       "58497                   0.0                    0.000000  0.940306  \n",
       "58498                   0.0                    0.000000  0.866732  \n",
       "58499                   0.0                    0.000000  0.981570  \n",
       "\n",
       "[52415 rows x 11 columns]"
      ]
     },
     "execution_count": 11,
     "metadata": {},
     "output_type": "execute_result"
    }
   ],
   "source": [
    "df\n"
   ]
  },
  {
   "cell_type": "code",
   "execution_count": 12,
   "metadata": {},
   "outputs": [
    {
     "name": "stderr",
     "output_type": "stream",
     "text": [
      "100%|██████████| 584/584 [00:03<00:00, 169.12it/s]\n"
     ]
    }
   ],
   "source": [
    "negative_list = random.sample(rest_set, k=len(df[\"FILE\"].unique()))\n",
    "\n",
    "negative_info = []\n",
    "for wsi in tqdm(negative_list):\n",
    "    for t in glob(svs_path_dict[wsi] + \"/*.tiff\"):\n",
    "        negative_info.append((t, \"/\".join(t.split(\"/\")[-2:]), t.split(\"/\")[-2]))\n",
    "df_neg = pd.DataFrame(negative_info, columns=[\"path\", \"tilename\", \"FILE\"])\n",
    "for ft in fts:\n",
    "    df_neg[ft] = 0\n"
   ]
  },
  {
   "cell_type": "code",
   "execution_count": 13,
   "metadata": {},
   "outputs": [],
   "source": [
    "df = pd.concat([df, df_neg])\n"
   ]
  },
  {
   "cell_type": "code",
   "execution_count": 14,
   "metadata": {},
   "outputs": [],
   "source": [
    "df = pd.merge(df, info[[\"EXP_ID\", \"GROUP_ID\", \"FILE\"]], on=\"FILE\", how=\"inner\")\n",
    "df[\"EG\"] = df[\"EXP_ID\"] * 100 + df[\"GROUP_ID\"]"
   ]
  },
  {
   "cell_type": "code",
   "execution_count": 15,
   "metadata": {},
   "outputs": [],
   "source": [
    "model_train_df = df\n"
   ]
  },
  {
   "cell_type": "code",
   "execution_count": null,
   "metadata": {},
   "outputs": [],
   "source": []
  },
  {
   "cell_type": "markdown",
   "metadata": {},
   "source": [
    "## Data Split\n"
   ]
  },
  {
   "cell_type": "code",
   "execution_count": 16,
   "metadata": {},
   "outputs": [
    {
     "name": "stdout",
     "output_type": "stream",
     "text": [
      "[25 54 27 11  9 66 23  3]\n",
      "[49  0 39  3  6 10 66 22]\n",
      "[72 57 41 15  8 12 15 65]\n",
      "[ 0 94 51  1 15 15 22 27]\n",
      "[ 15   3  49   0   2  27 100   0]\n",
      "[0 0 0 0 0 0 0 0]\n"
     ]
    }
   ],
   "source": [
    "rsgf = RepeatedStratifiedGroupKFold(n_splits=5, random_state=123, n_repeats=100)\n",
    "g = LabelEncoder().fit_transform(info[\"COMPOUND_NAME\"].to_numpy())\n",
    "y = info[fts].values.astype(np.int64)\n",
    "X = info[[\"FILE\"]].to_numpy()\n",
    "fold = np.zeros(len(info), dtype=np.int64)\n",
    "\n",
    "for i, (_, idx) in enumerate(rsgf.split(X, y, g)):\n",
    "    fold[idx] = i\n",
    "fold = LabelEncoder().fit_transform(fold)\n",
    "for i in range(6):\n",
    "    print(y[fold == i].sum(axis=0))\n",
    "info[\"fold 1\"] = fold\n"
   ]
  },
  {
   "cell_type": "code",
   "execution_count": 17,
   "metadata": {},
   "outputs": [],
   "source": [
    "train1 = info[info[\"fold 1\"] != 0]\n"
   ]
  },
  {
   "cell_type": "code",
   "execution_count": 18,
   "metadata": {},
   "outputs": [
    {
     "name": "stderr",
     "output_type": "stream",
     "text": [
      "/opt/conda/lib/python3.7/site-packages/ipykernel_launcher.py:3: SettingWithCopyWarning: \n",
      "A value is trying to be set on a copy of a slice from a DataFrame.\n",
      "Try using .loc[row_indexer,col_indexer] = value instead\n",
      "\n",
      "See the caveats in the documentation: https://pandas.pydata.org/pandas-docs/stable/user_guide/indexing.html#returning-a-view-versus-a-copy\n",
      "  This is separate from the ipykernel package so we can avoid doing imports until\n",
      "/opt/conda/lib/python3.7/site-packages/ipykernel_launcher.py:4: SettingWithCopyWarning: \n",
      "A value is trying to be set on a copy of a slice from a DataFrame.\n",
      "Try using .loc[row_indexer,col_indexer] = value instead\n",
      "\n",
      "See the caveats in the documentation: https://pandas.pydata.org/pandas-docs/stable/user_guide/indexing.html#returning-a-view-versus-a-copy\n",
      "  after removing the cwd from sys.path.\n"
     ]
    },
    {
     "name": "stdout",
     "output_type": "stream",
     "text": [
      "[ 53  21  43   2   3  18  33  41 905]\n",
      "[ 24  31  47   0   7   9  33  11 920]\n",
      "[ 14  28  27   5  14  23  42  17 920]\n",
      "[ 17  47  38  11   5   7  53  11 913]\n",
      "[ 28  27  25   1   2   7  42  34 930]\n"
     ]
    },
    {
     "name": "stderr",
     "output_type": "stream",
     "text": [
      "/opt/conda/lib/python3.7/site-packages/ipykernel_launcher.py:17: SettingWithCopyWarning: \n",
      "A value is trying to be set on a copy of a slice from a DataFrame.\n",
      "Try using .loc[row_indexer,col_indexer] = value instead\n",
      "\n",
      "See the caveats in the documentation: https://pandas.pydata.org/pandas-docs/stable/user_guide/indexing.html#returning-a-view-versus-a-copy\n",
      "  app.launch_new_instance()\n"
     ]
    }
   ],
   "source": [
    "spl = np.zeros(len(train1), dtype=np.int64)\n",
    "spl[train1[\"SACRI_PERIOD\"].isin([\"15 day\", \"29 day\"])] = 1\n",
    "train1[\"SP_label\"] = spl\n",
    "train1[\"EG\"] = train1[\"GROUP_ID\"] + train1[\"EXP_ID\"] * 100\n",
    "\n",
    "g = LabelEncoder().fit_transform(train1[\"EG\"].to_numpy())\n",
    "y = train1[fts + [\"SP_label\"]].to_numpy().astype(np.int64)\n",
    "X = train1[[\"FILE\"]].to_numpy()\n",
    "fold = np.zeros(len(train1), dtype=np.int64)\n",
    "\n",
    "for i, (_, idx) in enumerate(rsgf.split(X, y, g)):\n",
    "    fold[idx] = i\n",
    "fold = LabelEncoder().fit_transform(fold)\n",
    "\n",
    "for i in range(5):\n",
    "    print(y[fold == i].sum(axis=0))\n",
    "train1[\"fold 2\"] = fold\n"
   ]
  },
  {
   "cell_type": "code",
   "execution_count": 19,
   "metadata": {},
   "outputs": [],
   "source": [
    "train2 = train1[train1[\"fold 2\"] != 0]\n",
    "df_train, df_test = (\n",
    "    model_train_df[model_train_df[\"FILE\"].isin(train2[\"FILE\"])],\n",
    "    model_train_df[~model_train_df[\"FILE\"].isin(train2[\"FILE\"])],\n",
    ")\n"
   ]
  },
  {
   "cell_type": "code",
   "execution_count": 20,
   "metadata": {},
   "outputs": [
    {
     "name": "stdout",
     "output_type": "stream",
     "text": [
      "[1014.30326253 1764.41105086 1562.044451      0.          996.43894494\n",
      "  636.48902392 2498.13666964 1231.07411551] 17121\n",
      "[1.32425001e+03 1.85360680e+03 1.92004739e+03 0.00000000e+00\n",
      " 5.63792229e-01 1.01190046e+03 2.54373950e+03 2.20449438e+03] 17121\n",
      "[ 793.87658972 1154.38245654 1360.54008907  158.96599692  496.35570306\n",
      "  497.47269809 2310.47177023 1813.83811706] 17121\n",
      "[2278.36805439 1124.56491148  871.0816865   192.65701479  750.27161199\n",
      " 1058.77266049 2552.09886622  580.8174988 ] 17121\n"
     ]
    }
   ],
   "source": [
    "gkf = GroupKFold(n_splits=4)\n",
    "\n",
    "df_train = df_train.sample(frac=1.0)\n",
    "X = df_train[\"path\"].to_numpy()\n",
    "y = df_train[fts].to_numpy()\n",
    "g = df_train[\"EG\"].to_numpy()\n",
    "fold = np.zeros(len(df_train), dtype=np.int64)\n",
    "\n",
    "for i, (_, idx) in enumerate(gkf.split(X, y, g)):\n",
    "    fold[idx] = i\n",
    "df_train[\"fold\"] = fold\n",
    "for i in range(4):\n",
    "    print(y[fold == i].sum(axis=0), (fold == i).sum())\n"
   ]
  },
  {
   "cell_type": "code",
   "execution_count": 21,
   "metadata": {},
   "outputs": [],
   "source": [
    "out_dir = \"../../data/TGGATEs/processed\"\n",
    "\n",
    "df_train.to_csv(f\"{out_dir}/train_val_for_model_training.csv\", index=False)\n",
    "df_test.to_csv(f\"{out_dir}/test_for_finding_types.csv\", index=False)\n",
    "train2.to_csv(f\"{out_dir}/train.csv\", index=False)"
   ]
  },
  {
   "cell_type": "code",
   "execution_count": null,
   "metadata": {},
   "outputs": [],
   "source": []
  }
 ],
 "metadata": {
  "kernelspec": {
   "display_name": "Python 3.7.13 ('base')",
   "language": "python",
   "name": "python3"
  },
  "language_info": {
   "codemirror_mode": {
    "name": "ipython",
    "version": 3
   },
   "file_extension": ".py",
   "mimetype": "text/x-python",
   "name": "python",
   "nbconvert_exporter": "python",
   "pygments_lexer": "ipython3",
   "version": "3.7.13"
  },
  "orig_nbformat": 4,
  "vscode": {
   "interpreter": {
    "hash": "d4d1e4263499bec80672ea0156c357c1ee493ec2b1c70f0acce89fc37c4a6abe"
   }
  }
 },
 "nbformat": 4,
 "nbformat_minor": 2
}
